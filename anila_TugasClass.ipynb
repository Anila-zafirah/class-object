{
  "nbformat": 4,
  "nbformat_minor": 0,
  "metadata": {
    "colab": {
      "provenance": [],
      "include_colab_link": true
    },
    "kernelspec": {
      "name": "python3",
      "display_name": "Python 3"
    },
    "language_info": {
      "name": "python"
    }
  },
  "cells": [
    {
      "cell_type": "markdown",
      "metadata": {
        "id": "view-in-github",
        "colab_type": "text"
      },
      "source": [
        "<a href=\"https://colab.research.google.com/github/Anila-zafirah/class-object/blob/main/anila_TugasClass.ipynb\" target=\"_parent\"><img src=\"https://colab.research.google.com/assets/colab-badge.svg\" alt=\"Open In Colab\"/></a>"
      ]
    },
    {
      "cell_type": "markdown",
      "source": [
        "Lengkapilah class-class berikut ini."
      ],
      "metadata": {
        "id": "V6n6i25pQnla"
      }
    },
    {
      "cell_type": "markdown",
      "source": [
        "Class Senjata memiliki sebuah atribut poin dan fungsi tembak()"
      ],
      "metadata": {
        "id": "DoZvmdSTSDPa"
      }
    },
    {
      "cell_type": "code",
      "source": [
        "class Senjata:\n",
        "  def __init__(self,poin):\n",
        "    self.poin=poin\n",
        "\n",
        "  def tembak(self):\n",
        "    print(f\"Kamu ditembak dengan poin sebesar {self.poin}\")"
      ],
      "metadata": {
        "id": "NYeV0w-FR6mf"
      },
      "execution_count": 70,
      "outputs": []
    },
    {
      "cell_type": "code",
      "source": [
        "senjata_saya=Senjata(50)\n",
        "senjata_saya.tembak()"
      ],
      "metadata": {
        "colab": {
          "base_uri": "https://localhost:8080/"
        },
        "id": "xhJ_5shinFyH",
        "outputId": "07c4bd1d-0e75-40af-f822-83baf49d0910"
      },
      "execution_count": 71,
      "outputs": [
        {
          "output_type": "stream",
          "name": "stdout",
          "text": [
            "Kamu ditembak dengan poin sebesar 50\n"
          ]
        }
      ]
    },
    {
      "cell_type": "markdown",
      "source": [
        "Class Player memiliki atribut id, nama, skor dan nyawa serta sebuah atribut bertipe objek **Senjata**. Tipe atribut silakan anda tentukan sendiri. Class Player memiliki perilaku move, set_skor dan get_skor. Class player wajib memiliki kontruktor dengan nilai default untuk id = 0 dan skor = 0 dan nyawa 5. Fungsi move menampilkan teks \"Bergerak\". Fungsi set_skor berfungsi untuk menambah skor dan fungsi get_skor mengembalikan nilai skor."
      ],
      "metadata": {
        "id": "LwRHn7m4SBaJ"
      }
    },
    {
      "cell_type": "code",
      "execution_count": 64,
      "metadata": {
        "id": "JC6f_oE5Qhjt"
      },
      "outputs": [],
      "source": [
        "class Player:\n",
        "  def __init__(self, id, nama, skor, nyawa):\n",
        "    self.id = id\n",
        "    self.nama = None\n",
        "    self.skor = skor\n",
        "    self.nyawa = 5\n",
        "\n",
        "\n",
        "\n",
        "  def move(self):\n",
        "    print(\"Bergerak\")\n",
        "\n",
        "  def set_skor(self, tambahan_skor):\n",
        "    self.skor += tambahan_skor\n",
        "\n",
        "  def get_skor(self):\n",
        "    return self.skor"
      ]
    },
    {
      "cell_type": "code",
      "source": [
        "player1=Player(id=1, skor=100, nama=\"Pemain\", nyawa=5)\n",
        "sjt = Senjata(10)\n",
        "\n",
        "player1.move()\n",
        "sjt.tembak()\n",
        "player1.set_skor(5)\n",
        "print(\"Skor kamu:\", player1.get_skor())"
      ],
      "metadata": {
        "colab": {
          "base_uri": "https://localhost:8080/"
        },
        "id": "mrb9c0kEnUeW",
        "outputId": "402ccc82-a56a-4923-adcf-b7da2b16a186"
      },
      "execution_count": 69,
      "outputs": [
        {
          "output_type": "stream",
          "name": "stdout",
          "text": [
            "Bergerak\n",
            "Kamu ditembak dengan poin sebesar 10\n",
            "Skor kamu: 105\n"
          ]
        }
      ]
    }
  ]
}